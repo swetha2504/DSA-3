{
 "cells": [
  {
   "cell_type": "markdown",
   "id": "32964b68",
   "metadata": {},
   "source": [
    "### 3.Implement Quick Sort\n"
   ]
  },
  {
   "cell_type": "code",
   "execution_count": 1,
   "id": "7621ab57",
   "metadata": {},
   "outputs": [],
   "source": [
    "def quicksort(x):\n",
    "    if len(x)<=1:\n",
    "        return(x)\n",
    "    else:\n",
    "        p = x[0]\n",
    "        l = [i for i in x[1:] if i <= p]\n",
    "        r = [i for i in x[1:] if i > p]\n",
    "    return quicksort(l)+[p]+quicksort(r)"
   ]
  },
  {
   "cell_type": "code",
   "execution_count": 2,
   "id": "0ccdd4c8",
   "metadata": {},
   "outputs": [
    {
     "name": "stdout",
     "output_type": "stream",
     "text": [
      "[18, 22, 36, 55, 97]\n"
     ]
    }
   ],
   "source": [
    "x=[97,18,22,36,55]\n",
    "y=quicksort(x)\n",
    "print(y)\n"
   ]
  },
  {
   "cell_type": "markdown",
   "id": "d09a18ad",
   "metadata": {},
   "source": [
    "### 1.Implement Binary Search"
   ]
  },
  {
   "cell_type": "code",
   "execution_count": 3,
   "id": "7aeb258b",
   "metadata": {},
   "outputs": [
    {
     "name": "stdout",
     "output_type": "stream",
     "text": [
      "enter the array :[15,58,25,85,96,45,12]\n",
      "96\n",
      "Element is present at index 4\n"
     ]
    }
   ],
   "source": [
    "def bisearch(lists,n):\n",
    "    l=0\n",
    "    u=len(lists)-1\n",
    "\n",
    "    while(l<=u):\n",
    "        mid=(l+u)//2\n",
    "        if(lists[mid]==n):\n",
    "            return mid\n",
    "        else:\n",
    "            if(lists[mid]<n):\n",
    "                 l=mid\n",
    "            else:\n",
    "                 u=mid\n",
    "                \n",
    "lists= eval(input(\"enter the array :\"))\n",
    "\n",
    "n= int(input())\n",
    "result =bisearch(lists,n)\n",
    "print(\"Element is present at index\", result)\n",
    "    "
   ]
  },
  {
   "cell_type": "markdown",
   "id": "8bb5bf86",
   "metadata": {},
   "source": [
    "### 2.Implement Merge Sort\n"
   ]
  },
  {
   "cell_type": "code",
   "execution_count": 4,
   "id": "dc44640e",
   "metadata": {},
   "outputs": [
    {
     "name": "stdout",
     "output_type": "stream",
     "text": [
      "enter the array :[25,2,45,89,63,12,4,5,74]\n",
      "After merge sorting : [2, 4, 5, 12, 25, 45, 63, 74, 89]\n"
     ]
    }
   ],
   "source": [
    "def merge_sort(arr):\n",
    "    if(len(arr)>1):\n",
    "        left_arr=arr[:len(arr)//2]\n",
    "        right_arr=arr[len(arr)//2:]\n",
    "        merge_sort(left_arr)\n",
    "        merge_sort(right_arr)\n",
    "    \n",
    "    \n",
    "        i=0\n",
    "        j=0\n",
    "        k=0\n",
    "        while i<len(left_arr) and j<len(right_arr):\n",
    "            if left_arr[i]<right_arr[j]:\n",
    "                arr[k]=left_arr[i]\n",
    "                i+=1\n",
    "            else:\n",
    "                arr[k]=right_arr[j]\n",
    "                j+=1\n",
    "            k+=1\n",
    "            \n",
    "            \n",
    "        while i<len(left_arr):\n",
    "            arr[k]=left_arr[i]\n",
    "            i+=1\n",
    "            k+=1\n",
    "        while j<len(right_arr):\n",
    "            arr[k]=right_arr[j]\n",
    "            j+=1\n",
    "            k+=1\n",
    "                \n",
    "array_test=eval(input(\"enter the array :\"))\n",
    "merge_sort(array_test)\n",
    "print(\"After merge sorting :\",array_test)\n",
    "                               "
   ]
  },
  {
   "cell_type": "markdown",
   "id": "b37aab35",
   "metadata": {},
   "source": [
    "### 4.Implement Insertion Sort"
   ]
  },
  {
   "cell_type": "code",
   "execution_count": 5,
   "id": "46d22180",
   "metadata": {},
   "outputs": [
    {
     "name": "stdout",
     "output_type": "stream",
     "text": [
      "enter the value :[29,22,15,98,25,15,14,2]\n",
      "after insertion sorting : [2, 14, 15, 15, 22, 25, 29, 98]\n"
     ]
    }
   ],
   "source": [
    "def insertion_sort(elements):\n",
    "    for i in range(1,len(elements)):\n",
    "        insert=elements[i]\n",
    "        j=i-1\n",
    "        while j>=0 and insert<elements[j]:\n",
    "            elements[j+1]=elements[j]  \n",
    "            j=j-1\n",
    "        elements[j+1]=insert\n",
    "        pass    \n",
    "    \n",
    "if __name__=='__main__':\n",
    "    elements=eval(input(\"enter the value :\"))\n",
    "    insertion_sort(elements)\n",
    "    print(\"after insertion sorting :\",elements)"
   ]
  },
  {
   "cell_type": "markdown",
   "id": "c749b01f",
   "metadata": {},
   "source": [
    "###  5.Write a program to sort list of strings"
   ]
  },
  {
   "cell_type": "code",
   "execution_count": 6,
   "id": "5fc12c28",
   "metadata": {},
   "outputs": [
    {
     "name": "stdout",
     "output_type": "stream",
     "text": [
      "enter the string value :\"jupyternotebook\"\n",
      "Original string: jupyternotebook\n",
      "String after sorting: beejknoooprttuy\n"
     ]
    }
   ],
   "source": [
    "def bubblesort(string):\n",
    "    chars=list(string)\n",
    "    n=len(chars)\n",
    "    for i in range(n):\n",
    "        for j in range(0,n-i-1):\n",
    "            if chars[j]>chars[j+1]:\n",
    "                chars[j],chars[j+1]=chars[j+1],chars[j]\n",
    "    return ''.join(chars)\n",
    "\n",
    "string = eval(input(\"enter the string value :\"))\n",
    "print(\"Original string:\", string)\n",
    "print(\"String after sorting:\", bubblesort(string))      \n",
    "                \n",
    "        "
   ]
  },
  {
   "cell_type": "code",
   "execution_count": null,
   "id": "4c0be418",
   "metadata": {},
   "outputs": [],
   "source": []
  },
  {
   "cell_type": "code",
   "execution_count": null,
   "id": "de663a9a",
   "metadata": {},
   "outputs": [],
   "source": []
  },
  {
   "cell_type": "code",
   "execution_count": null,
   "id": "518b273e",
   "metadata": {},
   "outputs": [],
   "source": []
  }
 ],
 "metadata": {
  "kernelspec": {
   "display_name": "Python 3 (ipykernel)",
   "language": "python",
   "name": "python3"
  },
  "language_info": {
   "codemirror_mode": {
    "name": "ipython",
    "version": 3
   },
   "file_extension": ".py",
   "mimetype": "text/x-python",
   "name": "python",
   "nbconvert_exporter": "python",
   "pygments_lexer": "ipython3",
   "version": "3.10.9"
  }
 },
 "nbformat": 4,
 "nbformat_minor": 5
}
